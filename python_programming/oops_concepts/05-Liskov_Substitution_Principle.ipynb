{
 "cells": [
  {
   "cell_type": "markdown",
   "metadata": {},
   "source": [
    "## Liskov substitution principle (No LSP - No Inheritance)"
   ]
  },
  {
   "cell_type": "markdown",
   "metadata": {},
   "source": [
    "Base class should be interchangeable with any of its subclasses without altering any properties of the program\n",
    "\n",
    "The principle defines that objects of a superclass shall be replaceable with objects of its subclasses without breaking the application. That requires the objects of your subclasses to behave in the same way as the objects of your superclass. This can be acheived by following rules\n",
    "\n",
    "**Syntactically**: function signatures are compatible \n",
    "* arguments, returned values\n",
    "\n",
    "**Semantically**: the state of the object and the program remains consistent\n",
    "* subclass method doesn't strengthen input conditions - An overridden method of a subclass needs to accept the same input parameter values as the method of the superclass. That means you can implement less restrictive validation rules, but you are not allowed to enforce stricter ones in your subclass.\n",
    "\n",
    "* subclass method doesn't weaken output conditions - An overridden method of a subclass needs to accept the same input parameter values as the method of the superclass. That means you can implement less restrictive validation rules, but you are not allowed to enforce stricter ones in your subclass.\n",
    "\n",
    "* no additional exceptions\n",
    "\n"
   ]
  },
  {
   "cell_type": "markdown",
   "metadata": {},
   "source": [
    "### Violating LSP"
   ]
  },
  {
   "cell_type": "markdown",
   "metadata": {},
   "source": [
    "Assume a baseclass `BankAccount` and the sub class `CheckingAccount`\n",
    "\n",
    "**Syntactic incompatibility**\n",
    "\n",
    "* BankAccount.withdraw() requires 1 parameter, but CheckingAccount.withdraw() requires 2\n",
    "\n",
    "**Subclass strengthening input conditions**\n",
    "\n",
    "* BankAccount.withdraw() accepts any amount, but CheckingAccount.withdraw() assumes that the amount is limited\n",
    "\n",
    "**Subclass weakening output conditions**\n",
    "\n",
    "* BankAccount.withdraw() can only leave a positive balance or cause an error, CheckingAccount.withdraw() can leave balance negative\n",
    "\n",
    "**Changing additional attributes in subclass method**\n",
    "\n",
    "**Throwing additional exception in subclass method**"
   ]
  }
 ],
 "metadata": {
  "language_info": {
   "name": "python"
  },
  "orig_nbformat": 4
 },
 "nbformat": 4,
 "nbformat_minor": 2
}
