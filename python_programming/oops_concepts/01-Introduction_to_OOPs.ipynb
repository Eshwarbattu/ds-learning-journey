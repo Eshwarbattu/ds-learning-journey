{
 "cells": [
  {
   "cell_type": "markdown",
   "metadata": {},
   "source": [
    "# Object Oriented Programming (OOPs)"
   ]
  },
  {
   "cell_type": "markdown",
   "metadata": {},
   "source": [
    "Most of the codes we would have written belong to the category of procedure-oriented programming (POP), which consists of a list of instructions to tell the computer what to do; these instructions are then organized into functions. The program is divided into a collection of variables, data structures, and routines to accomplish different tasks. "
   ]
  },
  {
   "cell_type": "markdown",
   "metadata": {},
   "source": [
    "### What is Object Oriented Programming?"
   ]
  },
  {
   "cell_type": "markdown",
   "metadata": {},
   "source": [
    "Object Oriented Programming (OOP) is a programming paradigm that focuses on the use of objects to represent and manipulate data. In OOP, data is encapsulated within objects, and objects are defined by their properties (attributes) and behaviors (methods). OOP provides several key concepts that enable developers to write modular, reusable, and maintainable code."
   ]
  },
  {
   "cell_type": "markdown",
   "metadata": {},
   "source": [
    "### Important Concepts of OOPs"
   ]
  },
  {
   "cell_type": "markdown",
   "metadata": {},
   "source": [
    "* **Abstraction** - Using simple things to represent complexity. We all know how to turn the TV on, but we don’t need to know how it works in order to enjoy it. In Java, abstraction means simple things like objects, classes and variables represent more complex underlying code and data. This is important because it lets you avoid repeating the same work multiple times.\n",
    "\n",
    "* **Encapsulation** - The practice of keeping fields within a class private, then providing access to those fields via public methods. Encapsulation is a protective barrier that keeps the data and code safe within the class itself. We can then reuse objects like code components or variables without allowing open access to the data system-wide.\n",
    "\n",
    "* **Inheritance** - A special feature of Object-Oriented Programming in Java, Inheritance lets programmers create new classes that share some of the attributes of existing classes. Using Inheritance lets us build on previous work without reinventing the wheel.\n",
    "\n",
    "* **Polymorphism** - Allows programmers to use the same word in Java to mean different things in different contexts. One form of polymorphism is method overloading. That’s when the code itself implies different meanings. The other form is method overriding. That’s when the values of the supplied variables imply different meanings. Let’s delve a little further."
   ]
  },
  {
   "cell_type": "markdown",
   "metadata": {},
   "source": [
    "### Features and Advantages of OOP:"
   ]
  },
  {
   "cell_type": "markdown",
   "metadata": {},
   "source": [
    "1. **Modularity:** OOP encourages the creation of classes and objects, which are self-contained units. Each class encapsulates its own data (attributes) and the functions that operate on that data (methods). This modularity allows you to break down a complex system into smaller, manageable parts.\n",
    "\n",
    "2. **Organization:** OOP promotes a structured way of organizing code. Classes and their relationships can be visually represented, making it easier to understand the overall structure of a program. This organization also encourages the separation of concerns, where different aspects of a program (e.g., data, logic, presentation) are organized into separate classes.\n",
    "\n",
    "3. **Readability:** OOP promotes meaningful and self-explanatory class and method names. This makes the code more readable and understandable, even for developers who didn't originally write the code. Well-designed classes and objects can serve as intuitive building blocks for creating complex systems.\n",
    "\n",
    "4. **Code Reusability:** OOP encourages the reuse of classes and objects. Once you've defined a class, you can create multiple instances of it throughout your program, reducing the need to duplicate code. Reusing existing classes and objects can save development time and reduce the chances of introducing bugs.\n",
    "\n",
    "In summary, OOP provides a set of principles and tools that enable you to create modular, readable, and maintainable code by organizing data and behavior into objects, abstracting away unnecessary details, and promoting code reuse and clarity. These advantages are especially beneficial for building large and complex software systems."
   ]
  },
  {
   "cell_type": "markdown",
   "metadata": {},
   "source": [
    "### Differences between OOPs and other Programming style"
   ]
  },
  {
   "cell_type": "markdown",
   "metadata": {},
   "source": [
    "Object-Oriented Programming (OOP) has become widely popular due to its many advantages over other programming styles such as Procedural Programming and Functional Programming.\n",
    "\n",
    "**Procedural Programming**\n",
    "\n",
    "Procedural Programming is a programming style that is based on a set of procedures or functions, where each function is a sequence of instructions that performs a specific task. It focuses on the sequence of must-follow steps that to accomplish a specific task. In contrast, OOP focuses on the objects and their interactions to solve problems.\n",
    "\n",
    "**Functional Programming**\n",
    "\n",
    "Functional Programming is a programming style that focuses on the use of functions that produce output based on their input, without modifying any external state. It is based on mathematical functions and is characterized by immutability and statelessness. In contrast, OOP is based on objects and their states, and it is designed to manage complex, stateful systems."
   ]
  }
 ],
 "metadata": {
  "kernelspec": {
   "display_name": "Python 3",
   "language": "python",
   "name": "python3"
  },
  "language_info": {
   "codemirror_mode": {
    "name": "ipython",
    "version": 3
   },
   "file_extension": ".py",
   "mimetype": "text/x-python",
   "name": "python",
   "nbconvert_exporter": "python",
   "pygments_lexer": "ipython3",
   "version": "3.7.5"
  },
  "orig_nbformat": 4
 },
 "nbformat": 4,
 "nbformat_minor": 2
}
