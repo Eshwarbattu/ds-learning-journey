{
 "cells": [
  {
   "cell_type": "markdown",
   "metadata": {},
   "source": [
    "## Class And Object"
   ]
  },
  {
   "cell_type": "markdown",
   "metadata": {},
   "source": [
    "**Class**: Using a strict definition of classes, we can say classes are user-defined data types. By user-defined data types, we refer to data types that can be altered and defined according to the needs of the user. Classes are blueprints from which objects can be instantiated. \n",
    "\n",
    "* A class is a blueprint or template for creating objects. It defines the structure and behavior that objects of that class will have.\n",
    "\n",
    "**Object**: An object is a self-contained unit within a program that represents a real-world entity, concept, or instance. It is a runtime instance of a class.\n",
    "\n",
    "* Objects have both data (attributes or properties) and behavior (methods or functions). The data represents the state of the object, and the behavior defines how the object can interact with other objects."
   ]
  },
  {
   "cell_type": "markdown",
   "metadata": {},
   "source": [
    "### Creating a basic class\n",
    "Below code snippet shows how to defina a class named \"name\" with \n",
    "\n",
    "        1. first_name, last_name, age as the attributes of the class\n",
    "        2. check_if_adult as the method of the class"
   ]
  },
  {
   "cell_type": "code",
   "execution_count": null,
   "metadata": {},
   "outputs": [],
   "source": [
    "class name:\n",
    "    min_age = 10 #class_level attribute (accessed as class_name.attribute_name)\n",
    "    def __init__(self, first_name, last_name, age) -> None:   # Construnctor: Automatically called when an object of a class is created (Sets up the initial state)\n",
    "        self.first_name = first_name  #intance level attributes (accessed as self.attribute_name)\n",
    "        self.last_name = last_name\n",
    "        self.age = age\n",
    "\n",
    "    def check_if_adult(self):\n",
    "        return self.age > name.min_age\n",
    "eshwar = name(\"Eshwar Sai\", \"Battu\", 25) #Creating the object for the class\n",
    "\n",
    "eshwar.check_if_adult()\n"
   ]
  },
  {
   "cell_type": "code",
   "execution_count": null,
   "metadata": {},
   "outputs": [],
   "source": [
    "dir(eshwar) # Gives the list of attributes & methods for the object"
   ]
  },
  {
   "cell_type": "markdown",
   "metadata": {},
   "source": [
    "In Python, the double-underscore (dunder) methods or special methods are used to define how objects of a class behave in various circumstances. These methods provide hooks for you to customize the behavior of your class instances. Here, I'll explain each of the special methods you listed:\n",
    "\n",
    "1. `__class__`:\n",
    "   - This method returns the class of an instance. For example, `instance.__class__` returns the class type of `instance`.\n",
    "\n",
    "2. `__delattr__(self, name)`:\n",
    "   - This method is called when an attribute deletion is attempted using the `del` statement. It allows you to customize attribute deletion behavior.\n",
    "\n",
    "3. `__dict__`:\n",
    "   - This attribute is a dictionary containing the object's attributes and their values.\n",
    "\n",
    "4. `__dir__`:\n",
    "   - This method is called when the `dir()` function is used on an object. It should return a list of attributes and methods available on the object.\n",
    "\n",
    "5. `__doc__`:\n",
    "   - This attribute holds the docstring (documentation string) for the class or module.\n",
    "\n",
    "6. `__eq__(self, other)`:\n",
    "   - This method is called when the equality operator (`==`) is used to compare two objects. It allows you to define custom equality logic.\n",
    "\n",
    "7. `__format__(self, format_spec)`:\n",
    "   - This method is called by the `format()` function to format the object using a specified format.\n",
    "\n",
    "8. `__ge__(self, other)`, `__gt__(self, other)`, `__le__(self, other)`, `__lt__(self, other)`:\n",
    "   - These methods define the behavior of comparison operators (`>=`, `>`, `<=`, `<`) when used to compare two objects.\n",
    "\n",
    "9. `__getattribute__(self, name)`:\n",
    "   - This method is called when an attribute is accessed using dot notation. It allows you to customize attribute access.\n",
    "\n",
    "10. `__hash__(self)`:\n",
    "    - This method returns a hash value for the object. It is used when the object is used as a key in a dictionary.\n",
    "\n",
    "11. `__init__(self[, ...])`:\n",
    "    - This is the constructor method, called when an object of the class is created. It initializes the object's attributes.\n",
    "\n",
    "12. `__init_subclass__(cls[, ...])`:\n",
    "    - This method is called when a subclass of the class is created. It allows you to customize the behavior of subclass creation.\n",
    "\n",
    "13. `__ne__(self, other)`:\n",
    "    - This method defines the behavior of the inequality operator (`!=`) when used to compare two objects.\n",
    "\n",
    "14. `__new__(cls[, ...])`:\n",
    "    - This method is called before `__init__` when creating a new instance of the class. It's responsible for creating and returning a new instance.\n",
    "\n",
    "15. `__reduce__(self)` and `__reduce_ex__(self)`:\n",
    "    - These methods are used for pickling and unpickling objects. They define how an object should be serialized and deserialized.\n",
    "\n",
    "16. `__repr__(self)`:\n",
    "    - This method returns a string representation of the object, typically used for debugging and development.\n",
    "\n",
    "17. `__setattr__(self, name, value)`:\n",
    "    - This method is called when an attribute is set using the assignment operator (`=`). It allows you to customize attribute assignment.\n",
    "\n",
    "18. `__sizeof__(self)`:\n",
    "    - This method returns the size of the object in memory, in bytes.\n",
    "\n",
    "19. `__str__(self)`:\n",
    "    - This method returns a human-readable string representation of the object.\n",
    "\n",
    "20. `__subclasshook__(cls, C)`:\n",
    "    - This method is used to customize class inheritance checks.\n",
    "\n",
    "21. `__weakref__`:\n",
    "    - This attribute is used to implement weak references to the object. It's automatically created for objects that support weak references.\n",
    "\n",
    "These special methods provide a way to define custom behavior for your classes, making your objects more versatile and adaptable to various operations and contexts. By implementing these methods, you can control how your objects are compared, displayed, serialized, and interacted with in different ways."
   ]
  },
  {
   "cell_type": "markdown",
   "metadata": {},
   "source": [
    "### `__str__` and `__repr__`"
   ]
  },
  {
   "cell_type": "markdown",
   "metadata": {},
   "source": [
    "There are two special methods that we can define in a class that will return a printable representation of an object. \n",
    "1. The `_str__` method is executed when we call print or str on an object\n",
    "2. And the `__repr__` method is executed when we call repr on the object, or when we print it in the console without calling print explicitly. "
   ]
  },
  {
   "cell_type": "code",
   "execution_count": 1,
   "metadata": {},
   "outputs": [
    {
     "name": "stdout",
     "output_type": "stream",
     "text": [
      "Phone number: 873555333\n"
     ]
    },
    {
     "data": {
      "text/plain": [
       "Phone(873555333)"
      ]
     },
     "execution_count": 1,
     "metadata": {},
     "output_type": "execute_result"
    }
   ],
   "source": [
    "class Phone:\n",
    "  def __init__(self, number):\n",
    "     self.number = number\n",
    "\n",
    "  def __repr__(self):\n",
    "    return \"Phone({})\".format(self.number)\n",
    "\n",
    "  def __str__(self):\n",
    "    return \"Phone number: {}\".format(self.number)\n",
    "\n",
    "pn = Phone(873555333)\n",
    "\n",
    "print(pn)\n",
    "\n",
    "pn"
   ]
  },
  {
   "cell_type": "markdown",
   "metadata": {},
   "source": [
    "### Class and Static type methods"
   ]
  },
  {
   "cell_type": "markdown",
   "metadata": {},
   "source": [
    "There are two important types of methods apart from instance methods (check_if_adult in name class):\n",
    "\n",
    "**class method** : A `classmethod` is a method that is bound to the class and not the instance of the class. It takes the class itself as its first argument (usually named `cls`) and can be used to create alternative constructors or perform operations related to the class itself.\n",
    "\n",
    "    - A class method takes class as its first argument instead of instance like in instance method\n",
    "    - It can be used as an alternate constructor as shown below\n",
    "    \n",
    "**static method** : A `staticmethod` is a method that is bound to the class and doesn't receive any special first argument like `cls`. It's used for utility functions that are related to the class but don't depend on its internal state.\n",
    "\n",
    "    - With staticmethods, neither self (the object instance) nor cls (the class) is implicitly passed as the first argument. They behave like plain functions except that you can call them from an instance or the class\n",
    "\n",
    "\n",
    "In summary:\n",
    "- Use `classmethod` when you need to perform operations related to the class itself or create alternative constructors.\n",
    "- Use `staticmethod` for utility methods that are related to the class but don't depend on its internal state."
   ]
  },
  {
   "cell_type": "code",
   "execution_count": 2,
   "metadata": {},
   "outputs": [
    {
     "name": "stdout",
     "output_type": "stream",
     "text": [
      "Empty DataFrame\n",
      "Columns: [A, B, C]\n",
      "Index: []\n",
      "True\n",
      "False\n"
     ]
    }
   ],
   "source": [
    "import pandas as pd\n",
    "\n",
    "class DataFrameUtils:\n",
    "    @classmethod\n",
    "    def create_empty_dataframe(cls, columns):\n",
    "        data = {col: [] for col in columns}\n",
    "        return pd.DataFrame(data)\n",
    "\n",
    "    @staticmethod\n",
    "    def check_empty_dataframe(df):\n",
    "        return df.empty\n",
    "\n",
    "# Usage\n",
    "columns = ['A', 'B', 'C']\n",
    "df = DataFrameUtils.create_empty_dataframe(columns)\n",
    "print(df)\n",
    "\n",
    "\n",
    "# Usage\n",
    "df1 = pd.DataFrame({'A': [], 'B': []})\n",
    "df2 = pd.DataFrame({'A': [1, 2], 'B': [3, 4]})\n",
    "\n",
    "print(DataFrameUtils.check_empty_dataframe(df1))  # True\n",
    "print(DataFrameUtils.check_empty_dataframe(df2))  # False"
   ]
  },
  {
   "cell_type": "markdown",
   "metadata": {},
   "source": [
    "In the above example, the `create_empty_dataframe` method is defined as a `classmethod`. It takes the class `DataFrameUtils` as its first argument (`cls`) and creates an empty DataFrame with the specified columns. You can call this method on the class itself, not on an instance of the class.\n",
    "\n",
    "In this example, the `check_empty_dataframe` method is defined as a `staticmethod`. It doesn't depend on the internal state of the class `DataFrameUtils`. You can call it with a DataFrame as an argument without creating an instance of the class."
   ]
  },
  {
   "cell_type": "code",
   "execution_count": null,
   "metadata": {},
   "outputs": [],
   "source": [
    "class MyClass:\n",
    "    class_attribute = 0\n",
    "    \n",
    "    def instance_method(self, parameter):\n",
    "        # This method is an instance method by default\n",
    "        self.class_attribute += parameter\n",
    "\n",
    "    @classmethod\n",
    "    def class_method(cls, parameter):\n",
    "        # This method is a class method\n",
    "        cls.class_attribute += parameter\n",
    "\n",
    "    @staticmethod\n",
    "    def static_method(parameter):\n",
    "        # This method is a static method\n",
    "        return parameter * 2\n",
    "\n",
    "obj = MyClass()\n",
    "\n",
    "# Using instance method\n",
    "obj.instance_method(3)  # This modifies obj.class_attribute\n",
    "\n",
    "# Using class method\n",
    "MyClass.class_method(5)  # This modifies MyClass.class_attribute\n",
    "\n",
    "# Using static method\n",
    "result = MyClass.static_method(3)  # This does not modify any attributes\n"
   ]
  },
  {
   "cell_type": "markdown",
   "metadata": {},
   "source": [
    "`instance_method` is just a function, but when you call `obj.instance_method` you don't just get the function, you get a \"partially applied\" version of the function with the object instance a bound as the first argument to the function. `instance_method` expects 2 arguments, while `obj.instance_method` only expects 1 argument.\n",
    "\n",
    "`obj` is bound to `instance_method`. That is what is meant by the term \"bound\" in the output"
   ]
  },
  {
   "cell_type": "code",
   "execution_count": null,
   "metadata": {},
   "outputs": [],
   "source": [
    "print(obj.instance_method)\n",
    "\n",
    "#Output: <bound method MyClass.instance_method of <__main__.MyClass object at 0x000002026BCE6348>>"
   ]
  },
  {
   "cell_type": "markdown",
   "metadata": {},
   "source": [
    "With `obj.class_method`, `obj` is not bound to `class_method`, rather the class `MyClass` is bound to `class_method`"
   ]
  },
  {
   "cell_type": "code",
   "execution_count": null,
   "metadata": {},
   "outputs": [],
   "source": [
    "print(obj.class_method)\n",
    "\n",
    "#Output: <bound method MyClass.class_method of <class '__main__.MyClass'>>"
   ]
  },
  {
   "cell_type": "markdown",
   "metadata": {},
   "source": [
    "With a staticmethod, even though it is a method, `obj.static_method` just returns a good 'ole function with no arguments bound to `static_method` \n",
    "\n",
    "`static_method` expects 1 argument, and `obj.static_method` expects 1 argument too."
   ]
  },
  {
   "cell_type": "code",
   "execution_count": null,
   "metadata": {},
   "outputs": [],
   "source": [
    "print(obj.static_method)\n",
    "\n",
    "#Output: <function MyClass.static_method at 0x0000029E75D514C8>"
   ]
  },
  {
   "cell_type": "code",
   "execution_count": null,
   "metadata": {},
   "outputs": [],
   "source": [
    "# In Pandas, the `pd.DataFrame` class has a `from_dict` class method that creates a DataFrame \n",
    "# from a dictionary. This method is a good example of a `classmethod` \n",
    "# because it operates on the class itself.\n",
    "\n",
    "import pandas as pd\n",
    "\n",
    "data = {'A': [1, 2, 3], 'B': [4, 5, 6]}\n",
    "df = pd.DataFrame.from_dict(data) # In this example, `from_dict` is a class method that creates a DataFrame from a dictionary.\n",
    "\n",
    "\n",
    "# `pd.to_datetime` function - Using `staticmethod`:**\n",
    "\n",
    "# Pandas also uses static methods in functions like `pd.to_datetime`, \n",
    "# which converts objects to datetime objects. This function doesn't need to access any instance-specific attributes or methods.\n",
    "\n",
    "import pandas as pd\n",
    "\n",
    "date_str = '2023-09-02'\n",
    "date = pd.to_datetime(date_str)\n",
    "\n",
    "\n",
    "# In this case, `pd.to_datetime` is a static method because it doesn't depend on any specific instance of a class."
   ]
  },
  {
   "cell_type": "markdown",
   "metadata": {},
   "source": [
    "### Sequence of function within class"
   ]
  },
  {
   "cell_type": "markdown",
   "metadata": {},
   "source": [
    "In Python, the sequence of function or method definitions within a class does not matter. Python allows you to define methods and functions in any order within a class. This includes the constructor (the __init__ method), which can be defined at the end of the class definition if desired.\n",
    "\n",
    "Here's an example to illustrate this:"
   ]
  },
  {
   "cell_type": "code",
   "execution_count": 3,
   "metadata": {},
   "outputs": [
    {
     "name": "stdout",
     "output_type": "stream",
     "text": [
      "This is the constructor.\n",
      "This is an instance method.\n",
      "This is another instance method.\n",
      "This is yet another instance method.\n"
     ]
    }
   ],
   "source": [
    "class MyClass:\n",
    "    def instance_method(self):\n",
    "        print(\"This is an instance method.\")\n",
    "        self.another_instance_method()\n",
    "\n",
    "    def another_instance_method(self):\n",
    "        print(\"This is another instance method.\")\n",
    "\n",
    "    def __init__(self):\n",
    "        print(\"This is the constructor.\")\n",
    "\n",
    "    def yet_another_instance_method(self):\n",
    "        print(\"This is yet another instance method.\")\n",
    "\n",
    "# Creating an instance of MyClass\n",
    "obj = MyClass()\n",
    "\n",
    "# Calling methods of the class\n",
    "obj.instance_method()\n",
    "obj.yet_another_instance_method()\n"
   ]
  },
  {
   "cell_type": "markdown",
   "metadata": {},
   "source": [
    "In this example, the constructor __init__ is defined after other instance methods, and it still functions correctly. The order in which you define methods within a class is a matter of code organization and readability, and it does not affect how the class operates.\n",
    "\n",
    "However, it's a common convention to define the constructor (__init__) at the beginning of the class because it's often the first method you want to see when looking at a class definition, and it's the method that initializes the object's state. Following conventions helps make your code more readable for others who may be working with it."
   ]
  }
 ],
 "metadata": {
  "kernelspec": {
   "display_name": "Python 3",
   "language": "python",
   "name": "python3"
  },
  "language_info": {
   "codemirror_mode": {
    "name": "ipython",
    "version": 3
   },
   "file_extension": ".py",
   "mimetype": "text/x-python",
   "name": "python",
   "nbconvert_exporter": "python",
   "pygments_lexer": "ipython3",
   "version": "3.7.5"
  },
  "orig_nbformat": 4
 },
 "nbformat": 4,
 "nbformat_minor": 2
}
