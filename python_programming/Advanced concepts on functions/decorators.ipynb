{
 "cells": [
  {
   "cell_type": "markdown",
   "metadata": {},
   "source": [
    "## Decorators"
   ]
  },
  {
   "cell_type": "markdown",
   "metadata": {},
   "source": [
    "Python decorators are a powerful and flexible way to modify or enhance the behavior of functions or methods without changing their source code. Decorators are often used for tasks like logging, authentication, caching, and more. They allow you to wrap a function with another function, adding functionality to it."
   ]
  },
  {
   "cell_type": "code",
   "execution_count": null,
   "metadata": {},
   "outputs": [],
   "source": [
    "# Basic example to illustrate the working of decorator\n",
    "\n",
    "def sample_decorator(func):\n",
    "    def wrapper(*args,**kwargs):\n",
    "        print(\"started executing the function\")\n",
    "        func(*args,**kwargs)\n",
    "        print(\"function execution completed\")\n",
    "    \n",
    "    return wrapper\n",
    "\n",
    "@sample_decorator\n",
    "def print_hello():\n",
    "    print(\"Hello!\")\n"
   ]
  },
  {
   "cell_type": "markdown",
   "metadata": {},
   "source": [
    "Following are some real world examples where decorators are used for logging, measuring time, chaching"
   ]
  },
  {
   "cell_type": "code",
   "execution_count": null,
   "metadata": {},
   "outputs": [],
   "source": [
    "# Writing a decorator to see how long a function took to run by logging the results\n",
    "import time\n",
    "import logging\n",
    "\n",
    "\n",
    "# Set the logging level to INFO\n",
    "logging.basicConfig(\n",
    "        level=logging.DEBUG,\n",
    "        format=\"%(asctime)s [%(levelname)s] %(message)s\",\n",
    "        datefmt=\"%Y-%m-%d %H:%M:%S\",\n",
    "    )\n",
    "\n",
    "def timer(func):\n",
    "    \"\"\"A decorator that logs how long a function took to run.\n",
    "    Args:\n",
    "        func (callable): The function being decorated.\n",
    "    Returns:\n",
    "        callable: The decorated function.\n",
    "    \"\"\"\n",
    "    def wrapper(*args, **kwargs):\n",
    "        time_start = time.time()\n",
    "        logging.info(f\"{func.__name__} execution starteded\")\n",
    "        func(*args,**kwargs)\n",
    "        time_end = time.time()\n",
    "        logging.info(f\"{func.__name__} execution ended\")\n",
    "        logging.info(f\"Total time taken for function execution is {time_end - time_start}\")\n",
    "    \n",
    "    return wrapper\n",
    "\n",
    "@timer\n",
    "def sleep_n_seconds(n):\n",
    "    time.sleep(n)\n",
    "\n",
    "sleep_n_seconds(5)"
   ]
  },
  {
   "cell_type": "code",
   "execution_count": null,
   "metadata": {},
   "outputs": [],
   "source": [
    "# Caching the results using decorators\n",
    "\n",
    "def memoize(func):\n",
    "    \"\"\"Store the results of the decorated function for fast lookup\n",
    "    \"\"\"\n",
    "    # Store results in a dict that maps arguments to results\n",
    "    cache = {}\n",
    "    # Define the wrapper function to return.\n",
    "    def wrapper(*args,**kwargs):\n",
    "        key=(args,frozenset(kwargs.items()))\n",
    "        # If these arguments haven't been seen before,\n",
    "        if key not in cache:\n",
    "            # Call func() and store the result.\n",
    "            print(\"Caching the results\")\n",
    "            cache[key] = func(*args)\n",
    "        return cache[key]\n",
    "    return wrapper\n",
    "\n",
    "@memoize\n",
    "def add_suffix(name=\"name\"):\n",
    "    \"\"\"Function that adds the suffix to the name\n",
    "    Args:\n",
    "        name (str): Name to which suffix is to be added.\n",
    "    Returns:\n",
    "        str: name appended with suffix.\n",
    "    \"\"\"\n",
    "    return name+\"_suffix_added\""
   ]
  },
  {
   "cell_type": "code",
   "execution_count": null,
   "metadata": {},
   "outputs": [],
   "source": [
    "print(add_suffix(\"Eshwar Battu\")) # Output: \"Caching the results\", \"Eshwar Battu_suffix_added\"\n",
    "\n",
    "# Running the function with same input would give the results from cached storage\n",
    "print(add_suffix(\"Eshwar Battu\")) # Output: \"Eshwar Battu_suffix_added\""
   ]
  },
  {
   "cell_type": "markdown",
   "metadata": {},
   "source": [
    "### Using `@wraps` to reatin the base function details"
   ]
  },
  {
   "cell_type": "markdown",
   "metadata": {},
   "source": [
    "In the above add_suffix function, once we use the decorator name of the function changes and the doc strings of the functions cannot be accessed. This is shown below."
   ]
  },
  {
   "cell_type": "code",
   "execution_count": null,
   "metadata": {},
   "outputs": [],
   "source": [
    "print(add_suffix.__name__) #output: wrapper\n",
    "\n",
    "print(add_suffix.__doc__) #output: None - as the wrapper function doesn't have any doc string\n",
    "\n",
    "print(add_suffix.__defaults__) #output: None - Defaults are also not retained"
   ]
  },
  {
   "cell_type": "markdown",
   "metadata": {},
   "source": [
    "To Overcome the above issue, and to retain the name and the doc strings of the base function, the decorator `@wraps` can be used as shown in th following code"
   ]
  },
  {
   "cell_type": "code",
   "execution_count": null,
   "metadata": {},
   "outputs": [],
   "source": [
    "from functools import wraps\n",
    "def timer(func):\n",
    "    \"\"\"A decorator that prints how long a function took to run.\"\"\"\n",
    "    @wraps(func)\n",
    "    def wrapper(*args, **kwargs):\n",
    "        t_start = time.time()\n",
    "        result = func(*args, **kwargs)\n",
    "        t_total = time.time() - t_start\n",
    "        print('{} took {}s'.format(func.__name__, t_total))\n",
    "        return result\n",
    "    return wrapper\n",
    "\n",
    "@timer\n",
    "def sleep_n_seconds(n=2):\n",
    "    \"\"\"Pause processing for n seconds.\n",
    "    Args:\n",
    "    n (int): The number of seconds to pause for.\n",
    "    \"\"\"\n",
    "    time.sleep(n)\n",
    "\n",
    "# Base function details can be retrived when @wraps is used\n",
    "print(sleep_n_seconds.__name__) #output: sleep_n_seconda\n",
    "print(sleep_n_seconds.__doc__) \n",
    "print(sleep_n_seconds.__wrapped__) # the wraps decorator provides the dunder attribute to access the original function"
   ]
  },
  {
   "cell_type": "markdown",
   "metadata": {},
   "source": [
    "### Chaining the decorators"
   ]
  },
  {
   "cell_type": "code",
   "execution_count": null,
   "metadata": {},
   "outputs": [],
   "source": [
    "def star(func):\n",
    "    def inner(*args, **kwargs):\n",
    "        print(\"*\" * 15)\n",
    "        func(*args, **kwargs)\n",
    "        print(\"*\" * 15)\n",
    "    return inner\n",
    "\n",
    "\n",
    "def percent(func):\n",
    "    def inner(*args, **kwargs):\n",
    "        print(\"%\" * 15)\n",
    "        func(*args, **kwargs)\n",
    "        print(\"%\" * 15)\n",
    "    return inner\n",
    "\n",
    "\n",
    "@star\n",
    "@percent\n",
    "def printer(msg):\n",
    "    print(msg)\n",
    "\n",
    "printer(\"Hello\")"
   ]
  },
  {
   "cell_type": "markdown",
   "metadata": {},
   "source": [
    "### Decorators that takes arguments"
   ]
  },
  {
   "cell_type": "code",
   "execution_count": null,
   "metadata": {},
   "outputs": [],
   "source": [
    "def run_n_times(n):\n",
    "    \"\"\"Define and return a decorator\"\"\"\n",
    "    def decorator(func):\n",
    "        def wrapper(*args, **kwargs):\n",
    "            for i in range(n):\n",
    "                func(*args, **kwargs)\n",
    "        return wrapper\n",
    "    return decorator\n",
    "\n",
    "\n",
    "\n",
    "@run_n_times(3)\n",
    "def print_sum(a, b):\n",
    "    print(a + b)\n",
    "\n",
    "print_sum(3,4)"
   ]
  }
 ],
 "metadata": {
  "kernelspec": {
   "display_name": "Python 3",
   "language": "python",
   "name": "python3"
  },
  "language_info": {
   "codemirror_mode": {
    "name": "ipython",
    "version": 3
   },
   "file_extension": ".py",
   "mimetype": "text/x-python",
   "name": "python",
   "nbconvert_exporter": "python",
   "pygments_lexer": "ipython3",
   "version": "3.7.5"
  },
  "orig_nbformat": 4
 },
 "nbformat": 4,
 "nbformat_minor": 2
}
