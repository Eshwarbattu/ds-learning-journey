{
 "cells": [
  {
   "cell_type": "markdown",
   "metadata": {},
   "source": [
    "## Closures"
   ]
  },
  {
   "cell_type": "markdown",
   "metadata": {},
   "source": [
    "Python closure is a nested function that allows us to access variables of the outer function even after the outer function is closed."
   ]
  },
  {
   "cell_type": "markdown",
   "metadata": {},
   "source": [
    "Before going deep into understanding closure, let's understand what Namespace is\n",
    "\n",
    "In Python, a namespace refers to a container that holds a collection of identifiers (such as variable names, function names, class names, and module names) and their associated objects (such as values, functions, or classes). Namespaces are used to organize and manage the names used in a Python program to avoid naming conflicts and to provide a hierarchical structure for accessing variables and functions.\n",
    "\n",
    "There are several types of namespaces in Python:\n",
    "\n",
    "1. **Local Namespace**: This is the innermost namespace and contains local variables and parameters within a function or method. It is created when a function is called and destroyed when the function exits. Local namespaces are temporary and exist only during the execution of the function.\n",
    "\n",
    "2. **Enclosing Namespace**: This namespace is relevant for nested functions. If a function is defined within another function (a nested function), it has access to its enclosing function's variables and parameters. The enclosing namespace is one level higher than the local namespace.\n",
    "\n",
    "3. **Global Namespace**: This namespace contains global variables and functions defined at the top level of a module or script. It is accessible throughout the entire module or script. Global namespaces are created when a module is imported or when a script is executed.\n",
    "\n",
    "4. **Built-in Namespace**: This namespace contains all the built-in Python functions and objects that are available for use without the need for explicit imports. These include functions like `print()`, `len()`, and objects like `int`, `list`, and `str`.\n",
    "\n",
    "Namespaces in Python are organized in a hierarchical and nested manner. When you reference a name (variable, function, etc.) in your code, Python looks for that name first in the local namespace. If it's not found there, it searches in the enclosing namespace, then the global namespace, and finally the built-in namespace. This process is known as the \"LEGB\" rule, which stands for Local, Enclosing, Global, Built-in.\n",
    "\n",
    "Here's a simple example to illustrate the concept of namespaces:\n"
   ]
  },
  {
   "cell_type": "code",
   "execution_count": 2,
   "metadata": {},
   "outputs": [
    {
     "name": "stdout",
     "output_type": "stream",
     "text": [
      "10\n",
      "5\n"
     ]
    }
   ],
   "source": [
    "x = 10  # Global namespace\n",
    "\n",
    "def my_function():\n",
    "    y = 5  # Local namespace\n",
    "    print(x)  # Accessing x from the global namespace\n",
    "    print(y)  # Accessing y from the local namespace\n",
    "\n",
    "my_function()"
   ]
  },
  {
   "cell_type": "markdown",
   "metadata": {},
   "source": [
    "### Hierarchy of scope\n",
    "![Alt text](image-1.png)"
   ]
  },
  {
   "cell_type": "markdown",
   "metadata": {},
   "source": [
    "Understanding the usage of global and non local key word"
   ]
  },
  {
   "cell_type": "markdown",
   "metadata": {},
   "source": [
    "**global**\n",
    "\n",
    "Definition: The global keyword is used inside a function to declare that a variable is a global variable. When a variable is declared as global within a function, it means that the variable belongs to the global namespace, and any changes made to it within the function will affect the global variable outside the function.\n",
    "\n",
    "Usage: To use the global keyword, you typically declare a variable as global before you assign a value to it within a function. This allows you to modify the global variable's value from within the function.\n",
    "\n",
    "**nonlocal**\n",
    "\n",
    "Definition: The nonlocal keyword is used inside a nested (inner) function to indicate that a variable is in the enclosing (non-local) namespace. It allows you to access and modify variables from the nearest enclosing scope that is not the global scope. This is particularly useful in cases of nested functions.\n",
    "\n",
    "Usage: When you declare a variable as nonlocal within an inner function, it tells Python to look for that variable in the nearest enclosing function's scope (excluding the global scope). You can then modify the value of the non-local variable."
   ]
  },
  {
   "cell_type": "code",
   "execution_count": 25,
   "metadata": {},
   "outputs": [
    {
     "name": "stdout",
     "output_type": "stream",
     "text": [
      "42\n",
      "42\n"
     ]
    }
   ],
   "source": [
    "# Example for global keyword\n",
    "\n",
    "x = 7\n",
    "def foo():\n",
    "    global x\n",
    "    x = 42\n",
    "    print(x)\n",
    "foo()\n",
    "print(x)"
   ]
  },
  {
   "cell_type": "code",
   "execution_count": 26,
   "metadata": {},
   "outputs": [
    {
     "name": "stdout",
     "output_type": "stream",
     "text": [
      "200\n",
      "200\n"
     ]
    }
   ],
   "source": [
    "# Example for nonlocal keyword\n",
    "\n",
    "def foo():\n",
    "    x = 10\n",
    "    def bar():\n",
    "        nonlocal x\n",
    "        x = 200\n",
    "        print(x)\n",
    "    bar()\n",
    "    print(x)\n",
    "\n",
    "foo()"
   ]
  },
  {
   "cell_type": "markdown",
   "metadata": {},
   "source": [
    "The nonlocal keyword let's us access only the nearest enclose namespace. If there are three functions (func_1, func_2, func_3) nested into each other, then nonlocal keyword in func_3 can access only into func_2 namespace, not the func_1\n",
    "\n",
    "Example is shown below"
   ]
  },
  {
   "cell_type": "code",
   "execution_count": 28,
   "metadata": {},
   "outputs": [
    {
     "name": "stdout",
     "output_type": "stream",
     "text": [
      "100\n",
      "100\n",
      "300\n"
     ]
    }
   ],
   "source": [
    "def func_1():\n",
    "    x=300 \n",
    "    def func_2():\n",
    "        x = 200\n",
    "        def func_3():\n",
    "            nonlocal x # Will give us the access to change the x in both func_3 (local scope), and func_2 (enclosing scope) - not func_1\n",
    "            x = 100\n",
    "            print(x)\n",
    "        func_3()\n",
    "        print(x)\n",
    "    func_2()\n",
    "    print(x)\n",
    "\n",
    "func_1()"
   ]
  },
  {
   "cell_type": "code",
   "execution_count": 109,
   "metadata": {},
   "outputs": [
    {
     "data": {
      "text/plain": [
       "25"
      ]
     },
     "execution_count": 109,
     "metadata": {},
     "output_type": "execute_result"
    }
   ],
   "source": [
    "# Example 1\n",
    "\n",
    "def outer():\n",
    "    x=25\n",
    "    def inner():\n",
    "        print(x)\n",
    "    return inner\n",
    "\n",
    "x = outer()\n",
    "\n",
    "# For accessing the closure variables in a functions\n",
    "x.__closure__[0].cell_contents #25"
   ]
  },
  {
   "cell_type": "code",
   "execution_count": 104,
   "metadata": {},
   "outputs": [
    {
     "name": "stdout",
     "output_type": "stream",
     "text": [
      "6\n",
      "7\n"
     ]
    }
   ],
   "source": [
    "# Example 2\n",
    "\n",
    "def counter(start):\n",
    "\n",
    "    def inc1(step=1):\n",
    "        nonlocal start\n",
    "        start += step\n",
    "        print(start)\n",
    "\n",
    "    def inc2(step=1):\n",
    "        nonlocal start\n",
    "        start += step\n",
    "        print(start)\n",
    "    \n",
    "    return inc1, inc2\n",
    "\n",
    "my_inc, another_inc = counter(5)\n",
    "\n",
    "\n",
    "# my_inc and another_inc closures point to the same closure variable\n",
    "my_inc() #6\n",
    "another_inc() #7"
   ]
  }
 ],
 "metadata": {
  "kernelspec": {
   "display_name": "Python 3",
   "language": "python",
   "name": "python3"
  },
  "language_info": {
   "codemirror_mode": {
    "name": "ipython",
    "version": 3
   },
   "file_extension": ".py",
   "mimetype": "text/x-python",
   "name": "python",
   "nbconvert_exporter": "python",
   "pygments_lexer": "ipython3",
   "version": "3.7.5"
  },
  "orig_nbformat": 4
 },
 "nbformat": 4,
 "nbformat_minor": 2
}
